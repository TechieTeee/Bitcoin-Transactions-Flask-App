{
 "nbformat": 4,
 "nbformat_minor": 0,
 "metadata": {
  "colab": {
   "provenance": []
  },
  "kernelspec": {
   "name": "python3",
   "display_name": "Python 3"
  },
  "language_info": {
   "name": "python"
  }
 },
 "cells": [
  {
   "cell_type": "markdown",
   "source": [
    "# **Install and Import Neccessary Libraries**"
   ],
   "metadata": {
    "id": "fSMWw7p8rzgv"
   }
  },
  {
   "cell_type": "code",
   "source": [
    "#Install Neccessary Libraries\n",
    "!pip install flask\n",
    "!pip install pandas\n",
    "!pip install --upgrade google-cloud-bigquery\n",
    "!pip install flask-ngrok"
   ],
   "metadata": {
    "colab": {
     "base_uri": "https://localhost:8080/"
    },
    "id": "hOu0wBSYqWrn",
    "outputId": "8ea173d4-4da6-418b-80ba-24cf2ad82c7d",
    "pycharm": {
     "is_executing": true
    }
   },
   "execution_count": null,
   "outputs": []
  },
  {
   "cell_type": "code",
   "execution_count": 10,
   "metadata": {
    "id": "smXts8YNqM7T"
   },
   "outputs": [],
   "source": [
    "#Make Neccessary Imports\n",
    "from flask import Flask, render_template\n",
    "import pandas as pd\n",
    "from google.cloud import bigquery\n",
    "from flask_ngrok import run_with_ngrok"
   ]
  },
  {
   "cell_type": "code",
   "source": [
    "# Construct a BigQuery client object.\n",
    "client = bigquery.Client()"
   ],
   "metadata": {
    "id": "PKrMGAPsrdal"
   },
   "execution_count": 11,
   "outputs": []
  },
  {
   "cell_type": "code",
   "source": [
    "app = Flask(__name__)\n",
    "\n",
    "@app.route(\"/\")\n",
    "def transactions():\n",
    "    # Connect to BigQuery\n",
    "    client = bigquery.Client()\n",
    "    dataset_id = \"bigquery-public-data\"\n",
    "    table_id = \"bitcoin_blockchain.transactions\"\n",
    "    table_ref = client.dataset(dataset_id).table(table_id)\n",
    "    table = client.get_table(table_ref)\n",
    "\n",
    "    # Query the data\n",
    "    query = \"\"\"\n",
    "    SELECT *\n",
    "    FROM (\n",
    "        SELECT transaction_id, COUNT(transaction_id) AS dup_transaction_count\n",
    "        FROM `bigquery-public-data.bitcoin_blockchain.transactions`\n",
    "        GROUP BY transaction_id\n",
    "    )\n",
    "    WHERE dup_transaction_count > 1;\n",
    "    \"\"\"\n",
    "    try:\n",
    "        df = client.query(query).to_dataframe()\n",
    "    except Exception as e:\n",
    "        return str(e)\n",
    "\n",
    "    # Return the data to the template\n",
    "    return render_template(\"transactions.html\", data=df.to_html())\n",
    "\n",
    "if __name__ == \"__main__\":\n",
    "    app.run()\n"
   ],
   "metadata": {
    "id": "klucPuvevf3O",
    "outputId": "32d32ff7-c40c-4ba6-dfb8-7b54e304b585",
    "colab": {
     "base_uri": "https://localhost:8080/"
    },
    "pycharm": {
     "is_executing": true
    }
   },
   "execution_count": null,
   "outputs": []
  }
 ]
}
